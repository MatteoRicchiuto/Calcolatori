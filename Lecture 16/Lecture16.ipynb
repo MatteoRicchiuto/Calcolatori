{
 "cells": [
  {
   "cell_type": "code",
   "execution_count": null,
   "metadata": {},
   "outputs": [],
   "source": [
    "def hist( a, bins ):\n",
    "    '''\n",
    "    Input: a una lista di m float e bins una lista di n-1 floats ordinati in modo crescente\n",
    "    Output: una lista h di n floats tale che:\n",
    "        - h[0] = numero di elementi in a < bins[0]\n",
    "        - h[n-1] = numero di elementi in a >= bins[n-2]\n",
    "        - per i = 1,..., n-2, h[i] = numero di elementi in a >= bins[i-1] e < bin[i]\n",
    "    '''\n",
    "    n = len(bins)+1\n",
    "    h =[0]*n\n",
    "\n",
    "    for v in a:\n",
    "        # cerco il segmento v\n",
    "        i = 0\n",
    "        while i < n-1 and v >= bins[i]:\n",
    "            i += 1\n",
    "        h[i] += 1\n",
    "        \n",
    "    return h \n",
    "\n",
    "print(hist([10,], [0, 10 , 2])) \n"
   ]
  },
  {
   "cell_type": "markdown",
   "metadata": {},
   "source": [
    "# Come calocolare il costo di questa funzione\n",
    "    "
   ]
  }
 ],
 "metadata": {
  "kernelspec": {
   "display_name": "Python 3.11.0 64-bit",
   "language": "python",
   "name": "python3"
  },
  "language_info": {
   "name": "python",
   "version": "3.11.0"
  },
  "orig_nbformat": 4,
  "vscode": {
   "interpreter": {
    "hash": "aee8b7b246df8f9039afb4144a1f6fd8d2ca17a180786b69acc140d282b71a49"
   }
  }
 },
 "nbformat": 4,
 "nbformat_minor": 2
}
